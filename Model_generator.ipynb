{
 "cells": [
  {
   "cell_type": "markdown",
   "metadata": {},
   "source": [
    "## Model generator main file"
   ]
  },
  {
   "cell_type": "code",
   "execution_count": 1,
   "metadata": {},
   "outputs": [
    {
     "name": "stderr",
     "output_type": "stream",
     "text": [
      "Using TensorFlow backend.\n"
     ]
    }
   ],
   "source": [
    "import numpy as np\n",
    "import re\n",
    "import unidecode\n",
    "import os\n",
    "import pickle\n",
    "import sys\n",
    "\n",
    "import pandas as pd\n",
    "\n",
    "import matplotlib.pyplot as plt\n",
    "%matplotlib inline\n",
    "\n",
    "from sklearn.model_selection     import GridSearchCV\n",
    "\n",
    "import keras.backend as K\n",
    "from keras.wrappers.scikit_learn import KerasClassifier\n",
    "from keras.constraints           import maxnorm\n",
    "from keras                       import regularizers\n",
    "from keras                       import Input, Model, Sequential\n",
    "from keras.layers                import TimeDistributed, CuDNNLSTM, Bidirectional, Activation, TimeDistributed, Dense, RepeatVector, Embedding, Dropout, BatchNormalization\n",
    "from keras.layers.recurrent      import LSTM, GRU, SimpleRNN\n",
    "from keras.utils                 import np_utils\n",
    "from keras.callbacks             import EarlyStopping, TensorBoard, ModelCheckpoint"
   ]
  },
  {
   "cell_type": "markdown",
   "metadata": {},
   "source": [
    "Import data and make folders"
   ]
  },
  {
   "cell_type": "code",
   "execution_count": 14,
   "metadata": {},
   "outputs": [
    {
     "name": "stdout",
     "output_type": "stream",
     "text": [
      "===== Check sizes =====\n",
      "joint_angle_data shape is: \n",
      "(32501, 19)\n",
      "power_data shape is: \n",
      "(32501, 1)\n",
      "First value needs to be equal!\n"
     ]
    }
   ],
   "source": [
    "data_path = 'data'\n",
    "temp_path = data_path + '/temp'\n",
    "backup_path = data_path + '/backup'\n",
    "weights_path = data_path + '/weights'\n",
    "train_history = data_path + '/train_history'\n",
    "\n",
    "if not os.path.isdir(data_path):\n",
    "    os.mkdir(data_path)\n",
    "if not os.path.isdir(temp_path):\n",
    "    os.mkdir(temp_path)\n",
    "if not os.path.isdir(backup_path):\n",
    "    os.mkdir(backup_path)\n",
    "if not os.path.isdir(weights_path):\n",
    "    os.mkdir(weights_path)\n",
    "if not os.path.isdir(train_history):\n",
    "    os.mkdir(train_history)\n",
    "\n",
    "#joint_angle_data.pickle\n",
    "with open(data_path + '/augmented_input.pickle', 'rb') as file:\n",
    "    joint_angle_data = pickle.load(file)\n",
    "    file.close()\n",
    "\n",
    "#power_data.pickle\n",
    "with open(data_path + '/power_data.pickle', 'rb') as file:\n",
    "    power_data = pickle.load(file)\n",
    "    file.close()\n",
    "    \n",
    "print('===== Check sizes =====')\n",
    "print('joint_angle_data shape is: ')\n",
    "print(joint_angle_data.shape)\n",
    "print('power_data shape is: ')\n",
    "print(power_data.shape)\n",
    "print('First value needs to be equal!')"
   ]
  },
  {
   "cell_type": "markdown",
   "metadata": {},
   "source": [
    "## Recurrent neural networks"
   ]
  },
  {
   "cell_type": "markdown",
   "metadata": {},
   "source": [
    "Different model functions"
   ]
  },
  {
   "cell_type": "code",
   "execution_count": 64,
   "metadata": {},
   "outputs": [],
   "source": [
    "def mean_square_error(y_true, y_pred):\n",
    "    return K.mean(K.square(y_true-y_pred))"
   ]
  },
  {
   "cell_type": "code",
   "execution_count": 65,
   "metadata": {},
   "outputs": [],
   "source": [
    "def setModelToBasicLSTM(self, multiple=False):\n",
    "    n_timesteps, n_features, n_outputs = self.X_train.shape[1], self.X_train.shape[2], self.Y_train.shape[1]\n",
    "    # define model\n",
    "    self.model = Sequential()\n",
    "    self.model.add(Bidirectional(CuDNNLSTM(256, return_sequences = True, kernel_initializer = 'random_uniform', bias_initializer = 'zero', input_shape = (n_timesteps, n_features))))\n",
    "    self.model.add(Dropout(0.2))\n",
    "    self.model.add(Bidirectional(CuDNNLSTM(256, return_sequences = True, kernel_initializer = 'random_uniform', bias_initializer = 'zero')))\n",
    "    self.model.add(Dropout(0.2))\n",
    "    self.model.add(Bidirectional(CuDNNLSTM(256, return_sequences = True, kernel_initializer = 'random_uniform', bias_initializer = 'zero')))\n",
    "    self.model.add(Dropout(0.2))\n",
    "    self.model.add(Bidirectional(CuDNNLSTM(256, return_sequences = multiple, kernel_initializer = 'random_uniform', bias_initializer = 'zero')))\n",
    "    self.model.add(Dropout(0.2))\n",
    "    if multiple:\n",
    "        self.model.add(TimeDistributed(Dense(256, activation='relu', kernel_initializer = 'random_uniform', bias_initializer = 'zero')))\n",
    "        self.model.add(TimeDistributed(Dense(n_outputs)))\n",
    "    else:\n",
    "        self.model.add(Dense(256, activation='relu', kernel_initializer = 'random_uniform', bias_initializer = 'zero'))\n",
    "        self.model.add(Dense(n_outputs))\n",
    "    self.model.compile(loss='mean_squared_error', optimizer='adam', metrics=[mean_square_error])\n"
   ]
  },
  {
   "cell_type": "code",
   "execution_count": 66,
   "metadata": {},
   "outputs": [],
   "source": [
    "def setModelToGridSearch(self, multiple=False, layer_type=CuDNNLSTM, hidden_units_RNN=128, hidden_units_dense=64, num_mid_layers = 3, optimizer='adam', learn_rate=0.01, momentum=0, init_mode='random_uniform', activation='relu', dropout_rate=0.0, weight_constraint=0, num_dense_layers=1):\n",
    "    n_timesteps, n_features, n_outputs = self.X_train.shape[1], self.X_train.shape[2], self.Y_train.shape[1]\n",
    "    # define model\n",
    "    self.model = Sequential()\n",
    "    self.model.add(Bidirectional(layer_type(hidden_units_RNN, return_sequences = True, kernel_initializer = init_mode, bias_initializer = 'zero', input_shape = (n_timesteps, n_features))))\n",
    "    for n in range(num_mid_layers):\n",
    "        self.model.add(Bidirectional(layer_type(hidden_units_RNN, return_sequences = True, kernel_initializer = init_mode, bias_initializer = 'zero')))\n",
    "        self.model.add(Dropout(dropout_rate))\n",
    "        \n",
    "    self.model.add(Bidirectional(layer_type(hidden_units_RNN, return_sequences = multiple, kernel_initializer = init_mode, bias_initializer = 'zero')))\n",
    "    self.model.add(Dropout(dropout_rate))\n",
    "    \n",
    "    if multiple:\n",
    "        for n in range(num_dense_layers):\n",
    "            self.model.add(Dense(hidden_units_dense, activation=activation, kernel_initializer = 'random_uniform', bias_initializer = 'zero')) #, kernel_constraint=maxnorm(weight_constraint)\n",
    "    \n",
    "        self.model.add(Dense(n_outputs))\n",
    "    else:\n",
    "        for n in range(num_dense_layers):\n",
    "            self.model.add(TimeDistributed(Dense(hidden_units_dense, activation=activation, kernel_initializer = 'random_uniform', bias_initializer = 'zero'))) #, kernel_constraint=maxnorm(weight_constraint)\n",
    "    \n",
    "        self.model.add(TimeDistributed(Dense(n_outputs)))\n",
    "        \n",
    "    self.model.compile(loss='mean_squared_error', optimizer=optimizer, metrics=[\"accuracy\"])\n",
    "    return self.model"
   ]
  },
  {
   "cell_type": "markdown",
   "metadata": {},
   "source": [
    "Other functions"
   ]
  },
  {
   "cell_type": "code",
   "execution_count": 67,
   "metadata": {},
   "outputs": [],
   "source": [
    "def series_to_supervised(dataX, dataY, n_input, n_output):\n",
    "    #Output: [batchs, n_timesteps, n_features]\n",
    "    df_X = pd.DataFrame(dataX)\n",
    "    df_Y = pd.DataFrame(dataY)\n",
    "    X = np.ndarray((df_X.shape[0]-n_input, n_input, df_X.shape[1]) )\n",
    "    Y = np.ndarray((df_Y.shape[0]-n_input, n_output))\n",
    "\n",
    "    for n in range(0,df_X.shape[0]-n_input-1,1):\n",
    "        for m in range(n_input-1,-1, -1):\n",
    "            X[n,m,:] = df_X.loc[n+m:n+m,:]\n",
    "            \n",
    "    for n in range(0,df_Y.shape[0]-n_input-1,1):\n",
    "        for m in range(n_output-1,-1, -1):\n",
    "            Y[n,:] = df_Y.loc[n+m:n+m,:]\n",
    "            \n",
    "    return X, Y"
   ]
  },
  {
   "cell_type": "code",
   "execution_count": 68,
   "metadata": {},
   "outputs": [],
   "source": [
    "def setUpData(self, seq_length, dataX, dataY, n_test_ratio):\n",
    "\n",
    "    self.X_train = []\n",
    "    self.Y_train = []\n",
    "    self.X_test = []\n",
    "    self.Y_test = []\n",
    "    self.seq_length = seq_length\n",
    "    \n",
    "    X, Y = series_to_supervised(dataX, dataY, n_input=seq_length, n_output=dataY.shape[1])\n",
    "    \n",
    "    self.X_train = X[:int(len(X)*(1-n_test_ratio)), :, :]\n",
    "    self.Y_train = Y[:int(len(Y)*(1-n_test_ratio)), :]\n",
    "    self.X_test = X[int(len(X)*(1-n_test_ratio)):, :, :]\n",
    "    self.Y_test = Y[int(len(Y)*(1-n_test_ratio)):, :]\n",
    "    "
   ]
  },
  {
   "cell_type": "code",
   "execution_count": 69,
   "metadata": {},
   "outputs": [],
   "source": [
    "def trainModel(self, name):\n",
    "    # File path for model\n",
    "    filepath = weights_path + \"/weights-\" + name + \"-{epoch:02d}-{loss:.4f}.hdf5\"\n",
    "    # Callbacks functions\n",
    "    es = EarlyStopping(monitor='val_loss', patience=40, verbose=0)\n",
    "    tb = TensorBoard(log_dir='./logs', histogram_freq=0, batch_size=32)\n",
    "    mc = ModelCheckpoint(filepath, monitor='val_loss', verbose=0, save_best_only=True, mode='auto')\n",
    "    \n",
    "    # Train the model\n",
    "    epochs = 40           #Maximum number of epochs to run\n",
    "    batch_size = 16    #Size of training data batch\n",
    "    Val_split = 0.1       #Procentage of training data to use as validation data\n",
    "    history = self.model.fit(self.X_train, self.Y_train, epochs=epochs, batch_size=batch_size, validation_split=Val_split, callbacks=[es, tb, mc])\n",
    "    \n",
    "    # Save the model\n",
    "    filename = \"model_\" + name + \".hdf5\"\n",
    "    self.model.save_weights(weights_path + '/' + filename)\n",
    "    # Save the history\n",
    "    filename = \"history_\" + name + \".pickle\"\n",
    "    with open(train_history + '/' + filename, 'wb') as f:\n",
    "        pickle.dump(history.history, f)\n",
    "        f.close()"
   ]
  },
  {
   "cell_type": "markdown",
   "metadata": {},
   "source": [
    "Model generator"
   ]
  },
  {
   "cell_type": "code",
   "execution_count": 70,
   "metadata": {},
   "outputs": [],
   "source": [
    "class Generator:\n",
    "\n",
    "    set_up_data = setUpData\n",
    "    train_model = trainModel\n",
    "    \n",
    "    set_model_to_Basic_LSTM = setModelToBasicLSTM\n",
    "    set_model_to_Grid_Search = setModelToGridSearch\n",
    "    "
   ]
  },
  {
   "cell_type": "markdown",
   "metadata": {},
   "source": [
    "## Training the network"
   ]
  },
  {
   "cell_type": "markdown",
   "metadata": {},
   "source": [
    "Test training"
   ]
  },
  {
   "cell_type": "code",
   "execution_count": 71,
   "metadata": {},
   "outputs": [
    {
     "name": "stdout",
     "output_type": "stream",
     "text": [
      "(32501, 1)\n",
      "(31841, 10, 19)\n",
      "(31841, 1)\n",
      "(650, 10, 19)\n",
      "(650, 1)\n",
      "Train on 28656 samples, validate on 3185 samples\n",
      "Epoch 1/40\n",
      "28656/28656 [==============================] - 48s 2ms/step - loss: 4678614.5010 - mean_square_error: 4678614.5010 - val_loss: 3088889.2062 - val_mean_square_error: 3088889.20625 - mean_square_error: 4\n",
      "Epoch 2/40\n",
      "28656/28656 [==============================] - 47s 2ms/step - loss: 4120147.8192 - mean_square_error: 4120147.8192 - val_loss: 3308651.6131 - val_mean_square_error: 3308651.6131\n",
      "Epoch 3/40\n",
      "28656/28656 [==============================] - 48s 2ms/step - loss: 4123805.6009 - mean_square_error: 4123805.6009 - val_loss: 3344440.2013 - val_mean_square_error: 3344440.2013\n",
      "Epoch 4/40\n",
      "28656/28656 [==============================] - 47s 2ms/step - loss: 4124297.0091 - mean_square_error: 4124297.0091 - val_loss: 3194713.9274 - val_mean_square_error: 3194713.9274\n",
      "Epoch 5/40\n",
      "28656/28656 [==============================] - 46s 2ms/step - loss: 4121944.1135 - mean_square_error: 4121944.1135 - val_loss: 3285099.7283 - val_mean_square_error: 3285099.7283\n",
      "Epoch 6/40\n",
      "28656/28656 [==============================] - 47s 2ms/step - loss: 4123950.6519 - mean_square_error: 4123950.6519 - val_loss: 3376339.9114 - val_mean_square_error: 3376339.9114\n",
      "Epoch 7/40\n",
      "28656/28656 [==============================] - 48s 2ms/step - loss: 4121612.9801 - mean_square_error: 4121612.9801 - val_loss: 3253991.9514 - val_mean_square_error: 3253991.9514\n",
      "Epoch 8/40\n",
      "28656/28656 [==============================] - 48s 2ms/step - loss: 3690689.4214 - mean_square_error: 3690689.4214 - val_loss: 800698.9589 - val_mean_square_error: 800698.9589\n",
      "Epoch 9/40\n",
      "28656/28656 [==============================] - 47s 2ms/step - loss: 329495.8204 - mean_square_error: 329495.8204 - val_loss: 158211.6962 - val_mean_square_error: 158211.6962\n",
      "Epoch 10/40\n",
      "28656/28656 [==============================] - 47s 2ms/step - loss: 144533.6918 - mean_square_error: 144533.6918 - val_loss: 124815.7152 - val_mean_square_error: 124815.7152\n",
      "Epoch 11/40\n",
      "28656/28656 [==============================] - 47s 2ms/step - loss: 114237.6518 - mean_square_error: 114237.6518 - val_loss: 108730.1538 - val_mean_square_error: 108730.1538\n",
      "Epoch 12/40\n",
      "28656/28656 [==============================] - 47s 2ms/step - loss: 99829.7501 - mean_square_error: 99829.7501 - val_loss: 91809.4595 - val_mean_square_error: 91809.4595\n",
      "Epoch 13/40\n",
      "28656/28656 [==============================] - 47s 2ms/step - loss: 94498.8941 - mean_square_error: 94498.8941 - val_loss: 93652.8923 - val_mean_square_error: 93652.8923\n",
      "Epoch 14/40\n",
      "28656/28656 [==============================] - 47s 2ms/step - loss: 87612.9696 - mean_square_error: 87612.9696 - val_loss: 83920.3991 - val_mean_square_error: 83920.3991\n",
      "Epoch 15/40\n",
      "28656/28656 [==============================] - 46s 2ms/step - loss: 87415.8735 - mean_square_error: 87415.8735 - val_loss: 123773.7285 - val_mean_square_error: 123773.7285\n",
      "Epoch 16/40\n",
      "28656/28656 [==============================] - 48s 2ms/step - loss: 80202.4026 - mean_square_error: 80202.4026 - val_loss: 104199.3628 - val_mean_square_error: 104199.3628\n",
      "Epoch 17/40\n",
      "28656/28656 [==============================] - 48s 2ms/step - loss: 77782.5747 - mean_square_error: 77782.5747 - val_loss: 96122.0313 - val_mean_square_error: 96122.0313\n",
      "Epoch 18/40\n",
      "28656/28656 [==============================] - 47s 2ms/step - loss: 75996.5974 - mean_square_error: 75996.5974 - val_loss: 104448.9062 - val_mean_square_error: 104448.9062\n",
      "Epoch 19/40\n",
      "28656/28656 [==============================] - 47s 2ms/step - loss: 73349.6491 - mean_square_error: 73349.6491 - val_loss: 99801.8971 - val_mean_square_error: 99801.8971\n",
      "Epoch 20/40\n",
      "28656/28656 [==============================] - 49s 2ms/step - loss: 71981.0371 - mean_square_error: 71981.0371 - val_loss: 90042.7575 - val_mean_square_error: 90042.7575\n",
      "Epoch 21/40\n",
      "28656/28656 [==============================] - 47s 2ms/step - loss: 70278.3152 - mean_square_error: 70278.3152 - val_loss: 93203.6728 - val_mean_square_error: 93203.6728\n",
      "Epoch 22/40\n",
      "28656/28656 [==============================] - 48s 2ms/step - loss: 71436.4687 - mean_square_error: 71436.4687 - val_loss: 83836.2984 - val_mean_square_error: 83836.2984\n",
      "Epoch 23/40\n",
      "28656/28656 [==============================] - 48s 2ms/step - loss: 67964.1667 - mean_square_error: 67964.1667 - val_loss: 84490.6584 - val_mean_square_error: 84490.6584\n",
      "Epoch 24/40\n",
      "28656/28656 [==============================] - 48s 2ms/step - loss: 67626.9043 - mean_square_error: 67626.9043 - val_loss: 81066.8089 - val_mean_square_error: 81066.8089\n",
      "Epoch 25/40\n",
      "28656/28656 [==============================] - 46s 2ms/step - loss: 65500.6316 - mean_square_error: 65500.6316 - val_loss: 83658.8232 - val_mean_square_error: 83658.8232\n",
      "Epoch 26/40\n",
      "28656/28656 [==============================] - 47s 2ms/step - loss: 65333.2481 - mean_square_error: 65333.2481 - val_loss: 119191.7533 - val_mean_square_error: 119191.7533\n",
      "Epoch 27/40\n",
      "28656/28656 [==============================] - 48s 2ms/step - loss: 65008.6724 - mean_square_error: 65008.6724 - val_loss: 97869.2540 - val_mean_square_error: 97869.2540\n",
      "Epoch 28/40\n",
      "28656/28656 [==============================] - 49s 2ms/step - loss: 64209.2632 - mean_square_error: 64209.2632 - val_loss: 193031.5609 - val_mean_square_error: 193031.5609\n",
      "Epoch 29/40\n",
      "28656/28656 [==============================] - 47s 2ms/step - loss: 64113.9147 - mean_square_error: 64113.9147 - val_loss: 97372.8893 - val_mean_square_error: 97372.8893\n",
      "Epoch 30/40\n",
      "28656/28656 [==============================] - 49s 2ms/step - loss: 62192.8757 - mean_square_error: 62192.8757 - val_loss: 112396.2877 - val_mean_square_error: 112396.2877\n",
      "Epoch 31/40\n",
      "28656/28656 [==============================] - 47s 2ms/step - loss: 60702.5090 - mean_square_error: 60702.5090 - val_loss: 131673.9070 - val_mean_square_error: 131673.9070\n",
      "Epoch 32/40\n",
      "28656/28656 [==============================] - 45s 2ms/step - loss: 59897.4323 - mean_square_error: 59897.4323 - val_loss: 80172.7099 - val_mean_square_error: 80172.7099\n",
      "Epoch 33/40\n",
      "28656/28656 [==============================] - 45s 2ms/step - loss: 57865.5979 - mean_square_error: 57865.5979 - val_loss: 96800.7613 - val_mean_square_error: 96800.7613\n",
      "Epoch 34/40\n",
      "28656/28656 [==============================] - 47s 2ms/step - loss: 60219.3479 - mean_square_error: 60219.3479 - val_loss: 105638.7015 - val_mean_square_error: 105638.7015\n",
      "Epoch 35/40\n",
      "28656/28656 [==============================] - 48s 2ms/step - loss: 58340.4673 - mean_square_error: 58340.4673 - val_loss: 105982.3602 - val_mean_square_error: 105982.3602\n",
      "Epoch 36/40\n",
      "28656/28656 [==============================] - 48s 2ms/step - loss: 57295.4208 - mean_square_error: 57295.4208 - val_loss: 94836.1692 - val_mean_square_error: 94836.1692\n",
      "Epoch 37/40\n",
      "28656/28656 [==============================] - 52s 2ms/step - loss: 58203.3980 - mean_square_error: 58203.3980 - val_loss: 81632.2288 - val_mean_square_error: 81632.2288\n",
      "Epoch 38/40\n",
      "28656/28656 [==============================] - 47s 2ms/step - loss: 55881.6941 - mean_square_error: 55881.6941 - val_loss: 77755.7405 - val_mean_square_error: 77755.7405\n",
      "Epoch 39/40\n",
      "28656/28656 [==============================] - 51s 2ms/step - loss: 56304.5815 - mean_square_error: 56304.5815 - val_loss: 85670.8142 - val_mean_square_error: 85670.8142\n",
      "Epoch 40/40\n",
      "28656/28656 [==============================] - 51s 2ms/step - loss: 54489.9056 - mean_square_error: 54489.9056 - val_loss: 103234.1693 - val_mean_square_error: 103234.1693\n"
     ]
    }
   ],
   "source": [
    "gen = Generator()\n",
    "seqLleng = 10 #12ms/leng unit\n",
    "n_test_ratio = 0.02\n",
    "print((power_data.shape))\n",
    "gen.set_up_data(seqLleng, joint_angle_data, power_data, n_test_ratio)\n",
    "print(gen.X_train.shape)\n",
    "print(gen.Y_train.shape)\n",
    "print(gen.X_test.shape)\n",
    "print(gen.Y_test.shape)\n",
    "gen.set_model_to_Basic_LSTM(multiple=False)\n",
    "name = 'test_run'\n",
    "gen.train_model(name = name)"
   ]
  },
  {
   "cell_type": "markdown",
   "metadata": {},
   "source": [
    "Hyperparamter Grid Search"
   ]
  },
  {
   "cell_type": "code",
   "execution_count": 49,
   "metadata": {},
   "outputs": [
    {
     "name": "stdout",
     "output_type": "stream",
     "text": [
      "Setting up data\n",
      "Creating keras Classifier\n",
      "Grid Search Starting\n",
      "X: (31841, 10, 19)\n",
      "Y: (31841, 1)\n",
      "Epoch 1/1\n",
      "21227/21227 [==============================] - 22s 1ms/step - loss: 2754383.6225 - acc: 4.7110e-04\n",
      "10614/10614 [==============================] - 4s 350us/step\n",
      "21227/21227 [==============================] - 6s 305us/step\n",
      "Epoch 1/1\n",
      "21227/21227 [==============================] - 20s 954us/step - loss: 2700406.5566 - acc: 2.8266e-04\n",
      "10614/10614 [==============================] - 4s 359us/step\n",
      "21227/21227 [==============================] - 6s 301us/step\n",
      "Epoch 1/1\n",
      "21228/21228 [==============================] - 21s 970us/step - loss: 2841472.9757 - acc: 3.7686e-04\n",
      "10613/10613 [==============================] - 4s 361us/step\n",
      "21228/21228 [==============================] - 6s 301us/step\n",
      "Epoch 1/1\n",
      "21227/21227 [==============================] - 21s 972us/step - loss: 2357394.5297 - acc: 3.7688e-04\n",
      "10614/10614 [==============================] - 4s 397us/step\n",
      "21227/21227 [==============================] - 7s 308us/step\n",
      "Epoch 1/1\n",
      "21227/21227 [==============================] - 21s 974us/step - loss: 2433444.7241 - acc: 1.8844e-04\n",
      "10614/10614 [==============================] - 4s 380us/step\n",
      "21227/21227 [==============================] - 7s 332us/step\n",
      "Epoch 1/1\n",
      "21228/21228 [==============================] - 22s 1ms/step - loss: 2298530.2234 - acc: 1.4132e-04\n",
      "10613/10613 [==============================] - 4s 414us/step\n",
      "21228/21228 [==============================] - 7s 313us/step\n",
      "Epoch 1/1\n",
      "21227/21227 [==============================] - 23s 1ms/step - loss: 2122025.3421 - acc: 2.3555e-04\n",
      "10614/10614 [==============================] - 4s 414us/step\n",
      "21227/21227 [==============================] - 7s 334us/step\n",
      "Epoch 1/1\n",
      "21227/21227 [==============================] - 23s 1ms/step - loss: 2088575.2170 - acc: 4.2399e-04\n",
      "10614/10614 [==============================] - 4s 421us/step\n",
      "21227/21227 [==============================] - 7s 328us/step\n",
      "Epoch 1/1\n",
      "21228/21228 [==============================] - 23s 1ms/step - loss: 2096618.7825 - acc: 2.3554e-04\n",
      "10613/10613 [==============================] - 5s 474us/step\n",
      "21228/21228 [==============================] - 7s 330us/step\n",
      "Epoch 1/1\n",
      "31841/31841 [==============================] - 33s 1ms/step - loss: 4957858.1132 - acc: 1.8844e-04\n"
     ]
    }
   ],
   "source": [
    "gen_gs = Generator()\n",
    "# Variables\n",
    "seqLleng = 10 #12ms/leng unit\n",
    "n_test_ratio = 0.02\n",
    "# Set up the data\n",
    "print('Setting up data')\n",
    "gen_gs.set_up_data(seqLleng, joint_angle_data, power_data, n_test_ratio)\n",
    "# create model\n",
    "print('Creating keras Classifier')\n",
    "model = KerasClassifier(build_fn=gen_gs.set_model_to_Grid_Search, epochs=1, batch_size=16, verbose=1)\n",
    "# define the grid search parameters\n",
    "multiple = [False]\n",
    "layer_type = [CuDNNLSTM]\n",
    "hidden_units_RNN = [32, 64, 128]\n",
    "hidden_units_dense = [64]\n",
    "num_dense_layers = [1]\n",
    "num_mid_layers = [1]\n",
    "optimizer = ['adam']\n",
    "learn_rate = [0.01]\n",
    "momentum = [0]\n",
    "init_mode = ['random_uniform']\n",
    "activation = ['relu']\n",
    "dropout_rate = [0.0]\n",
    "weight_constraint = [0]\n",
    "# Make dictionary\n",
    "param_grid = dict(multiple=multiple,\n",
    "                  layer_type=layer_type,\n",
    "                  hidden_units_dense=hidden_units_dense,\n",
    "                  hidden_units_RNN=hidden_units_RNN,\n",
    "                  num_mid_layers=num_mid_layers,\n",
    "                  optimizer=optimizer,\n",
    "                  init_mode=init_mode,\n",
    "                  activation=activation,\n",
    "                  dropout_rate=dropout_rate\n",
    "                  num_dense_layers=num_dense_layers)\n",
    "# Grid Search\n",
    "print('Grid Search Starting')\n",
    "grid = GridSearchCV(estimator=model, param_grid=param_grid, n_jobs=1)\n",
    "print('X: ' + str(gen_gs.X_train.shape))\n",
    "print('Y: ' + str(gen_gs.Y_train.shape))\n",
    "grid_result = grid.fit(gen_gs.X_train, gen_gs.Y_train)\n"
   ]
  },
  {
   "cell_type": "markdown",
   "metadata": {},
   "source": [
    "## Test prediction"
   ]
  },
  {
   "cell_type": "code",
   "execution_count": 72,
   "metadata": {},
   "outputs": [],
   "source": [
    "predictions_train = gen.model.predict(gen.X_train)\n",
    "predictions_test = gen.model.predict(gen.X_test)"
   ]
  },
  {
   "cell_type": "markdown",
   "metadata": {},
   "source": [
    "Plot the test prediction"
   ]
  },
  {
   "cell_type": "code",
   "execution_count": 76,
   "metadata": {},
   "outputs": [
    {
     "data": {
      "image/png": "[encoded data removed]",
      "text/plain": [
       "<Figure size 864x432 with 1 Axes>"
      ]
     },
     "metadata": {
      "needs_background": "light"
     },
     "output_type": "display_data"
    },
    {
     "data": {
      "image/png": "[encoded data removed]",
      "text/plain": [
       "<Figure size 864x432 with 1 Axes>"
      ]
     },
     "metadata": {
      "needs_background": "light"
     },
     "output_type": "display_data"
    }
   ],
   "source": [
    "plt.figure(figsize=(12,6))\n",
    "fig1 = plt.subplot()\n",
    "x1 = range(len(predictions_train))\n",
    "fig1.plot(x1[100:1000], gen.Y_train[100:1000],  label='true',  marker='o',linewidth=0.3, markersize=4)\n",
    "fig1.plot(x1[100:1000], predictions_train[100:1000],  label='pred',  marker='o',linewidth=0.3, markersize=4)\n",
    "fig1.legend();\n",
    "fig1.set_ylabel('Power[W]')\n",
    "fig1.set_xlabel('Time')\n",
    "fig1.set_title('Train data prediction');\n",
    "\n",
    "plt.figure(figsize=(12,6))\n",
    "fig2 = plt.subplot()\n",
    "x2 = range(len(predictions_test))\n",
    "fig2.plot(x2, gen.Y_test,  label='true',  marker='o',linewidth=0.3, markersize=4)\n",
    "fig2.plot(x2, predictions_test,  label='pred',  marker='o',linewidth=0.3, markersize=4)\n",
    "fig2.legend();\n",
    "fig2.set_ylabel('Power[W]')\n",
    "fig2.set_xlabel('Time')\n",
    "fig2.set_title('Test data prediction');"
   ]
  },
  {
   "cell_type": "code",
   "execution_count": null,
   "metadata": {},
   "outputs": [],
   "source": []
  }
 ],
 "metadata": {
  "kernelspec": {
   "display_name": "Python 3",
   "language": "python",
   "name": "python3"
  },
  "language_info": {
   "codemirror_mode": {
    "name": "ipython",
    "version": 3
   },
   "file_extension": ".py",
   "mimetype": "text/x-python",
   "name": "python",
   "nbconvert_exporter": "python",
   "pygments_lexer": "ipython3",
   "version": "3.6.6"
  }
 },
 "nbformat": 4,
 "nbformat_minor": 2
}
