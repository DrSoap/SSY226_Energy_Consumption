{
 "cells": [
  {
   "cell_type": "markdown",
   "metadata": {},
   "source": [
    "## Setup File"
   ]
  },
  {
   "cell_type": "markdown",
   "metadata": {},
   "source": [
    "Import function"
   ]
  },
  {
   "cell_type": "code",
   "execution_count": null,
   "metadata": {},
   "outputs": [],
   "source": [
    "import os\n",
    "import shutil\n",
    "import zipfile\n",
    "import pickle\n",
    "import re\n",
    "import csv\n",
    "import pandas as pd\n",
    "import numpy as np\n",
    "from scipy.signal import butter, lfilter, freqz\n",
    "\n",
    "import matplotlib.pyplot as plt\n",
    "%matplotlib inline"
   ]
  },
  {
   "cell_type": "markdown",
   "metadata": {},
   "source": [
    "Create Folders if not existing"
   ]
  },
  {
   "cell_type": "code",
   "execution_count": null,
   "metadata": {},
   "outputs": [],
   "source": [
    "#File names for the angel and power data\n",
    "a_data = 'Collected Data/' + 'axis_data_100_percent.txt' #The angle data \n",
    "p_data = 'Collected Data/' + '12_11_100_percent_dat.csv' #The power data\n",
    "\n",
    "#Path to the different folders\n",
    "data_path = 'data'\n",
    "temp_path = data_path + '/temp'\n",
    "backup_path = data_path + '/backup'\n",
    "\n",
    "if not os.path.isdir(data_path):\n",
    "    os.mkdir(data_path)\n",
    "    os.mkdir(temp_path)\n",
    "    os.mkdir(backup_path)"
   ]
  },
  {
   "cell_type": "markdown",
   "metadata": {},
   "source": [
    "## Preprocessing"
   ]
  },
  {
   "cell_type": "markdown",
   "metadata": {},
   "source": [
    "Preprocess Robotic arms trejectory"
   ]
  },
  {
   "cell_type": "code",
   "execution_count": null,
   "metadata": {},
   "outputs": [],
   "source": [
    "with open(a_data, 'r') as file:\n",
    "    try:\n",
    "        data = file.read()\n",
    "        file.close()\n",
    "    except UnicodeDecodeError:\n",
    "        file.close()\n",
    "data = data.splitlines()\n",
    "data = data[4:len(data)-6] #Text information on first four rows and weird data last six rows\n",
    "\n",
    "time_steps = len(data)\n",
    "data_dim = len(data[0].split()[1:])\n",
    "\n",
    "traj_data = np.ndarray((time_steps,data_dim))\n",
    "print(np.shape(traj_data))\n",
    "i = 0\n",
    "for row in data:\n",
    "    traj_data[i] = np.array([float(n) for n in row.split()[1:]])\n",
    "    i += 1\n"
   ]
  },
  {
   "cell_type": "markdown",
   "metadata": {},
   "source": [
    "Preprocess Voltage/current Measurements"
   ]
  },
  {
   "cell_type": "code",
   "execution_count": null,
   "metadata": {},
   "outputs": [],
   "source": [
    "f = open(p_data)\n",
    "\n",
    "data = []\n",
    "for line in f:\n",
    "    data_line = line.rstrip().split('\\t')\n",
    "    data.append(data_line)\n",
    "\n",
    "Volt_Amp_data = []\n",
    "for file in data[9:]:\n",
    "    file = file[0].replace(',','.')\n",
    "    file = file.replace(' ','')\n",
    "    Volt_Amp_data = Volt_Amp_data + [[float(n) for n in file.split(';')[:len(file.split(';'))]]]"
   ]
  },
  {
   "cell_type": "markdown",
   "metadata": {},
   "source": [
    "Preprocessing \"Calculate Power form Voltage/current measurements"
   ]
  },
  {
   "cell_type": "code",
   "execution_count": null,
   "metadata": {},
   "outputs": [],
   "source": [
    "power_data = []\n",
    "power_time = []\n",
    "amp_data = []\n",
    "voltage_data = []\n",
    "#TODO: If statement that handles if we measure 1 or 3 phase\n",
    "for sample in Volt_Amp_data:\n",
    "    power = np.abs(3*sample[1]*sample[2]) \\\n",
    "#          + np.abs(sample[2]*sample[5]) \\\n",
    "#          + np.abs(sample[3]*sample[6])\n",
    "    power_data.append(power)\n",
    "    amp_data.append(sample[2])\n",
    "    voltage_data.append(sample[1])\n",
    "    power_time.append(sample[0])"
   ]
  },
  {
   "cell_type": "markdown",
   "metadata": {},
   "source": [
    "Figure ploting (testing)"
   ]
  },
  {
   "cell_type": "code",
   "execution_count": null,
   "metadata": {},
   "outputs": [],
   "source": [
    "plt.figure(figsize=(12,6))\n",
    "fig = plt.subplot()\n",
    "x = range(len(power_data))\n",
    "fig.plot(power_time, power_data,  label='power',  marker='o',linewidth=0.3, markersize=1.5)\n",
    "fig.legend();\n",
    "fig.set_ylabel('Power [W]')\n",
    "fig.set_xlabel('Time [s]')\n",
    "fig.set_title('Total Power');"
   ]
  },
  {
   "cell_type": "markdown",
   "metadata": {},
   "source": [
    "### Downsample and find start of power measurements"
   ]
  },
  {
   "cell_type": "code",
   "execution_count": null,
   "metadata": {},
   "outputs": [],
   "source": [
    "power_data_downsampled = power_data[0:len(power_data):3]\n",
    "amp_data_downsampled = amp_data[0:len(amp_data):3]\n",
    "power_time_downsampled = sg.decimate(power_time, 3)\n",
    "voltage_data_downsampled = sg.decimate(voltage_data, 3)"
   ]
  },
  {
   "cell_type": "code",
   "execution_count": null,
   "metadata": {},
   "outputs": [],
   "source": [
    "Start_current_indicator = 3.8\n",
    "start_point = 0\n",
    "for i in range(len(amp_data)):\n",
    "    if np.abs(amp_data_downsampled[i])>Start_current_indicator:\n",
    "        start_point = i\n",
    "        break\n",
    "print('Start at sample:',start_point-1,' corresponding to time:',power_time_downsampled[start_point-1],'sec')\n",
    "\n",
    "\n",
    "plt.figure(figsize=(12,6))\n",
    "fig = plt.subplot()\n",
    "x = range(len(power_data))\n",
    "fig.plot(power_time_downsampled[0:400], np.abs(amp_data_downsampled[0:400]),  label='Current',  marker='o',linewidth=0.3, markersize=1.5)\n",
    "fig.plot(power_time_downsampled[start_point-1], np.abs(amp_data_downsampled[start_point-1]),  label='Start',  marker='o',linewidth=0.3, markersize=4)\n",
    "fig.legend();\n",
    "fig.set_ylabel('Ampere [W]')\n",
    "fig.set_xlabel('Time')\n",
    "fig.set_title('Current');"
   ]
  },
  {
   "cell_type": "code",
   "execution_count": null,
   "metadata": {},
   "outputs": [],
   "source": [
    "#Cut off power measurements at end of angle data measurements\n",
    "power_data_synced = power_data_downsampled[start_point-1:start_point-1+len(traj_data)]\n",
    "power_data_temp = np.ndarray((np.shape(power_data_synced)[0],1))\n",
    "power_data_synced = np.array(power_data_temp)"
   ]
  },
  {
   "cell_type": "code",
   "execution_count": null,
   "metadata": {},
   "outputs": [],
   "source": [
    "fig1, ax1 = plt.subplots()\n",
    "ax1.plot(power_time_downsampled[0:400], power_data_synced[0:400],  label='Power',  marker='o',linewidth=0.3, markersize=1.5)\n",
    "ax1.legend();\n",
    "ax1.set_ylabel('Power [W]')\n",
    "ax1.set_xlabel('Time')\n",
    "ax1.set_title('Power');\n",
    "\n",
    "fig2, ax2 = plt.subplots()\n",
    "ax2.plot(power_time_downsampled[0:400], traj_data[0:400],  label='Angles',  marker='o',linewidth=0.3, markersize=1.5)\n",
    "ax2.legend();\n",
    "ax2.set_ylabel('Angles [deg]')\n",
    "ax2.set_xlabel('Time')\n",
    "ax2.set_title('Angles');"
   ]
  },
  {
   "cell_type": "markdown",
   "metadata": {},
   "source": [
    "Save the data"
   ]
  },
  {
   "cell_type": "code",
   "execution_count": null,
   "metadata": {},
   "outputs": [],
   "source": [
    "with open(data_path + '/joint_angle_data.pickle', 'wb') as file:\n",
    "    pickle.dump(traj_data, file)\n",
    "    file.close()\n",
    "with open(data_path + '/power_data.pickle', 'wb') as file:\n",
    "    pickle.dump(power_data_synced, file)\n",
    "    file.close()"
   ]
  },
  {
   "cell_type": "markdown",
   "metadata": {},
   "source": [
    "## Augment inputs with velocity, acceleration and pseudopower"
   ]
  },
  {
   "cell_type": "code",
   "execution_count": null,
   "metadata": {},
   "outputs": [],
   "source": [
    "data_path = 'data'\n",
    "temp_path = data_path + '/temp'\n",
    "backup_path = data_path + '/backup'\n",
    "\n",
    "with open(data_path + '/joint_angle_data.pickle', 'rb') as file:\n",
    "    joint_angle_data = pickle.load(file)\n",
    "    file.close()\n",
    "    \n",
    "with open(data_path + '/power_data.pickle', 'rb') as file:\n",
    "    power_data = pickle.load(file)\n",
    "    file.close()"
   ]
  },
  {
   "cell_type": "code",
   "execution_count": null,
   "metadata": {},
   "outputs": [],
   "source": [
    "#Time vector for angle measurements (fixed in KUKA system)\n",
    "delta_t = 0.012\n",
    "t = np.ndarray((len(joint_angle_data),1))\n",
    "t[0] = 0\n",
    "for i in range(1,len(joint_angle_data)):\n",
    "    t[i] = t[i-1] + delta_t"
   ]
  },
  {
   "cell_type": "code",
   "execution_count": null,
   "metadata": {},
   "outputs": [],
   "source": [
    "#Velocity \n",
    "vel = np.ndarray(np.shape(joint_angle_data))\n",
    "for i in range(len(joint_angle_data)-1):\n",
    "    vel[i] = np.divide( joint_angle_data[i+1] - joint_angle_data[i], delta_t)\n",
    "vel[-1] = vel[-2]\n",
    "\n",
    "#Acceleration\n",
    "acc = np.ndarray(np.shape(joint_angle_data))\n",
    "for i in range(len(joint_angle_data)-1):\n",
    "    acc[i] = np.divide( vel[i+1] - vel[i], delta_t)\n",
    "acc[-1] = acc[-2]\n",
    "\n",
    "#Pseudopower\n",
    "psi = np.ndarray((np.shape(joint_angle_data)[0],1))\n",
    "for i in range(len(joint_angle_data)):\n",
    "    psi[i] = np.sum(np.abs(vel[i]*acc[i]))"
   ]
  },
  {
   "cell_type": "code",
   "execution_count": null,
   "metadata": {},
   "outputs": [],
   "source": [
    "#Create the augmented input vector containing [angle1,..,angle6, vel1,..,vel6, acc1,..,acc6, psi] for all timesteps.\n",
    "#TOOO: Should we split psi to psi1,..,psi6 ?\n",
    "n_timesteps = len(t)\n",
    "feature_dim = len(joint_angle_data[0])*3 + 1\n",
    "aug_input = np.ndarray((n_timesteps,feature_dim))\n",
    "\n",
    "for i in range(n_timesteps):\n",
    "    aug_input[i] = np.concatenate((joint_angle_data[i], vel[i], acc[i], psi[i]), axis=None)\n",
    "\n",
    "with open(data_path + '/augmented_input.pickle', 'wb') as file:\n",
    "    pickle.dump(aug_input, file)\n",
    "    file.close()"
   ]
  },
  {
   "cell_type": "markdown",
   "metadata": {},
   "source": [
    "## Low pass filtering of power data"
   ]
  },
  {
   "cell_type": "code",
   "execution_count": null,
   "metadata": {},
   "outputs": [],
   "source": [
    "def butter_lowpass(cutoff, fs, order=5):\n",
    "    nyq = 0.5 * fs\n",
    "    normal_cutoff = cutoff / nyq\n",
    "    b, a = butter(order, normal_cutoff, btype='low', analog=False)\n",
    "    return b, a\n",
    "\n",
    "def butter_lowpass_filter(data, cutoff, fs, order=5):\n",
    "    b, a = butter_lowpass(cutoff, fs, order=order)\n",
    "    y = lfilter(b, a, data)\n",
    "    return y\n",
    "\n",
    "# Filter requirements.\n",
    "order = 6\n",
    "fs = 30.0       # sample rate, Hz\n",
    "cutoff = 4  # desired cutoff frequency of the filter, Hz\n",
    "\n",
    "# Get the filter coefficients so we can check its frequency response.\n",
    "b, a = butter_lowpass(cutoff, fs, order)\n",
    "\n",
    "w, h = freqz(b, a, worN=8000)\n",
    "plt.subplot(2, 1, 1)\n",
    "plt.plot(0.5*fs*w/np.pi, np.abs(h), 'b')\n",
    "plt.plot(cutoff, 0.5*np.sqrt(2), 'ko')\n",
    "plt.axvline(cutoff, color='k')\n",
    "plt.xlim(0, 0.5*fs)\n",
    "plt.title(\"Lowpass Filter Frequency Response\")\n",
    "plt.xlabel('Frequency [Hz]')\n",
    "plt.grid()\n",
    "\n",
    "# Filter the data, and plot both the original and filtered signals.\n",
    "power_filt = butter_lowpass_filter(power_data[0:400], cutoff, fs, order)\n",
    "\n",
    "plt.subplot(2, 1, 2)\n",
    "plt.plot(t[0:400], power_data[0:400], 'b-', label='data')\n",
    "plt.plot(t[0:400], y, 'g-', linewidth=2, label='filtered data')\n",
    "plt.xlabel('Time [sec]')\n",
    "plt.grid()\n",
    "plt.legend()"
   ]
  },
  {
   "cell_type": "markdown",
   "metadata": {},
   "source": [
    "# Plots"
   ]
  },
  {
   "cell_type": "code",
   "execution_count": null,
   "metadata": {},
   "outputs": [],
   "source": [
    "fig1, ax1 = plt.subplots()\n",
    "ax1.plot(t[0:400], joint_angle_data[0:400],  label='Angles',  marker='o',linewidth=0.3, markersize=1.5)\n",
    "ax1.legend();\n",
    "ax1.set_ylabel('Angles [deg]')\n",
    "ax1.set_xlabel('Time')\n",
    "ax1.set_title('Angles');\n",
    "\n",
    "fig2, ax2 = plt.subplots()\n",
    "ax2.plot(t[0:400], vel[0:400],  label='Angular velocity',  marker='o',linewidth=0.3, markersize=1.5)\n",
    "ax2.legend();\n",
    "ax2.set_ylabel('Angular velocity [deg/s]')\n",
    "ax2.set_xlabel('Time')\n",
    "ax2.set_title('Velocity');\n",
    "\n",
    "fig3, ax3 = plt.subplots()\n",
    "ax3.plot(t[0:400], acc[0:400],  label='Angular acceleration',  marker='o',linewidth=0.3, markersize=1.5)\n",
    "ax3.legend();\n",
    "ax3.set_ylabel('Angular acceleration [deg/s^2]')\n",
    "ax3.set_xlabel('Time')\n",
    "ax3.set_title('Acceleration');\n",
    "\n",
    "fig4, ax4 = plt.subplots()\n",
    "ax4.plot(t[0:400], np.sum(np.abs(acc[0:400]), axis=1),  label='Summed acc',  marker='o',linewidth=0.3, markersize=1.5)\n",
    "ax4.legend();\n",
    "ax4.set_ylabel('Summed accelerations [deg/s^2]')\n",
    "ax4.set_xlabel('Time')\n",
    "ax4.set_title('Summed accelerations');\n",
    "\n",
    "fig5, ax5 = plt.subplots()\n",
    "ax5.plot(t[0:400], psi[0:400],  label='Pseudo power',  marker='o',linewidth=0.3, markersize=1.5)\n",
    "ax5.legend();\n",
    "ax5.set_ylabel('Pseudo power [deg/s^3]')\n",
    "ax5.set_xlabel('Time')\n",
    "ax5.set_title('Pseudo power');\n",
    "\n",
    "fig6, ax6 = plt.subplots()\n",
    "ax6.plot(t[0:400], power_data[0:400],  label='Power',  marker='o',linewidth=0.3, markersize=1.5)\n",
    "ax6.legend();\n",
    "ax6.set_ylabel('Power [W]')\n",
    "ax6.set_xlabel('Time')\n",
    "ax6.set_title('Power');\n",
    "\n",
    "fig7, ax7 = plt.subplots()\n",
    "ax7.plot(t[0:400], power_filt,  label='Filtered power',  marker='o',linewidth=0.3, markersize=1.5)\n",
    "ax7.legend();\n",
    "ax7.set_ylabel('Filtered power [W]')\n",
    "ax7.set_xlabel('Time')\n",
    "ax7.set_title('Filtered power');"
   ]
  },
  {
   "cell_type": "code",
   "execution_count": null,
   "metadata": {},
   "outputs": [],
   "source": []
  }
 ],
 "metadata": {
  "kernelspec": {
   "display_name": "Python 3",
   "language": "python",
   "name": "python3"
  },
  "language_info": {
   "codemirror_mode": {
    "name": "ipython",
    "version": 3
   },
   "file_extension": ".py",
   "mimetype": "text/x-python",
   "name": "python",
   "nbconvert_exporter": "python",
   "pygments_lexer": "ipython3",
   "version": "3.6.6"
  }
 },
 "nbformat": 4,
 "nbformat_minor": 2
}
