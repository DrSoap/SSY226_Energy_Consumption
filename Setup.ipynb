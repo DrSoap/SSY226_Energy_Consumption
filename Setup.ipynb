{
 "cells": [
  {
   "cell_type": "markdown",
   "metadata": {},
   "source": [
    "# Setup File"
   ]
  },
  {
   "cell_type": "markdown",
   "metadata": {},
   "source": [
    "Import libraries"
   ]
  },
  {
   "cell_type": "code",
   "execution_count": null,
   "metadata": {},
   "outputs": [],
   "source": [
    "import os\n",
    "import shutil\n",
    "import zipfile\n",
    "import pickle\n",
    "import re\n",
    "import csv\n",
    "import pandas as pd\n",
    "import numpy as np\n",
    "from scipy.signal import butter, lfilter, freqz\n",
    "import scipy.signal as sg\n",
    "\n",
    "import matplotlib.pyplot as plt\n",
    "%matplotlib inline\n",
    "\n",
    "\n",
    "import scipy as sp\n",
    "from scipy import signal"
   ]
  },
  {
   "cell_type": "markdown",
   "metadata": {},
   "source": [
    "Create folders in which to save processed data"
   ]
  },
  {
   "cell_type": "code",
   "execution_count": null,
   "metadata": {},
   "outputs": [],
   "source": [
    "#Path to the different folders\n",
    "data_path = 'data'\n",
    "temp_path = data_path + '/temp'\n",
    "backup_path = data_path + '/backup'\n",
    "\n",
    "if not os.path.isdir(data_path):\n",
    "    os.mkdir(data_path)\n",
    "    os.mkdir(temp_path)\n",
    "    os.mkdir(backup_path)"
   ]
  },
  {
   "cell_type": "markdown",
   "metadata": {},
   "source": [
    "## Preprocessing of collected data"
   ]
  },
  {
   "cell_type": "code",
   "execution_count": null,
   "metadata": {},
   "outputs": [],
   "source": [
    "#File names for the angel and power data\n",
    "a_data = 'Collected Data/' + '20_11_75_percent_path2_axis.txt' #The angle data \n",
    "p_data = 'Collected Data/' + '20_11_75_path2_percent_dat.csv' #The power data"
   ]
  },
  {
   "cell_type": "markdown",
   "metadata": {},
   "source": [
    "Open joint angle data"
   ]
  },
  {
   "cell_type": "code",
   "execution_count": null,
   "metadata": {},
   "outputs": [],
   "source": [
    "with open(a_data, 'r') as file:\n",
    "    try:\n",
    "        data = file.read()\n",
    "        file.close()\n",
    "    except UnicodeDecodeError:\n",
    "        file.close()\n",
    "data = data.splitlines()\n",
    "data = data[4:len(data)-1] #Text information on first four rows and END on last row\n",
    "\n",
    "data_dim = len(data[0].split()[1:])\n",
    "\n",
    "traj_data = np.ndarray((len(data),data_dim))\n",
    "for i, row in enumerate(data):\n",
    "    traj_data[i] = np.array([float(n)*np.pi/180 for n in row.split()[1:]])\n",
    "\n",
    "with open(data_path + '/joint_angle_data.pickle', 'wb') as file:\n",
    "    pickle.dump(traj_data, file)\n",
    "    file.close()"
   ]
  },
  {
   "cell_type": "markdown",
   "metadata": {},
   "source": [
    "Open voltage and current data"
   ]
  },
  {
   "cell_type": "code",
   "execution_count": null,
   "metadata": {},
   "outputs": [],
   "source": [
    "f = open(p_data)\n",
    "\n",
    "data = []\n",
    "for line in f:\n",
    "    data_line = line.rstrip().split('\\t')\n",
    "    data.append(data_line)\n",
    "\n",
    "init=True\n",
    "for i, file in enumerate(data[9:]):\n",
    "    file = file[0].replace(',','.')\n",
    "    file = file.replace(' ','')\n",
    "    if init:\n",
    "        Volt_Amp_data = np.ndarray((len(data),len(file.split(';'))-1))\n",
    "        init=False\n",
    "    Volt_Amp_data[i] = np.array([float(n) for n in file.split(';')[:len(file.split(';'))-1]])"
   ]
  },
  {
   "cell_type": "markdown",
   "metadata": {},
   "source": [
    "Calculate momentaneous power form voltage/current measurements"
   ]
  },
  {
   "cell_type": "code",
   "execution_count": null,
   "metadata": {},
   "outputs": [],
   "source": [
    "n_phases   = 3   #Number of phases in measured data\n",
    "power_data = np.ndarray((len(Volt_Amp_data),1))\n",
    "power_time = np.ndarray((len(Volt_Amp_data),1))\n",
    "amp_data   = np.ndarray((len(Volt_Amp_data),n_phases))\n",
    "volt_data  = np.ndarray((len(Volt_Amp_data),n_phases))\n",
    "\n",
    "for i, sample in enumerate(Volt_Amp_data):\n",
    "    power_time[i] = sample[0]\n",
    "    volt_data[i]  = np.array([sample[1], sample[2], sample[3]])\n",
    "    amp_data[i]   = np.array([sample[4], sample[5], sample[6]])\n",
    "    power_data[i] = np.abs(sample[1]*sample[4]) \\\n",
    "        + np.abs(sample[2]*sample[5]) \\\n",
    "        + np.abs(sample[3]*sample[6]) \n"
   ]
  },
  {
   "cell_type": "markdown",
   "metadata": {},
   "source": [
    "Plot"
   ]
  },
  {
   "cell_type": "code",
   "execution_count": null,
   "metadata": {},
   "outputs": [],
   "source": [
    "n_periods = 1000 # Where to start the plot\n",
    "period    = 200  # Number of samples in a period (Voltage_Current_sample_freq)/50Hz\n",
    "interval  = 2    # Number of periods to be plotted\n",
    "phase     = 0    # Which phase to be plotted (0 --> phase1, 1 --> phase2, 2 --> phase3)\n",
    "amp_scale = 100  # Which factor to use to scale up the current data in the plot\n",
    "\n",
    "plt.figure(figsize=(12,6))\n",
    "fig = plt.subplot()\n",
    "x = range(len(power_data))\n",
    "fig.plot(power_time[n_periods*period:(n_periods+interval)*period], amp_data[n_periods*period:(n_periods+interval)*period,phase]*amp_scale,  label='amp',  marker='o',linewidth=0.3, markersize=1.5)\n",
    "fig.plot(power_time[n_periods*period:(n_periods+interval)*period], volt_data[n_periods*period:(n_periods+interval)*period,phase],  label='volt',  marker='o',linewidth=0.3, markersize=1.5)\n",
    "fig.plot(power_time[n_periods*period:(n_periods+interval)*period], power_data[n_periods*period:(n_periods+interval)*period],  label='power',  marker='o',linewidth=0.3, markersize=1.5)\n",
    "fig.legend();\n",
    "fig.set_ylabel('Power [W]')\n",
    "fig.set_xlabel('Time [s]')\n",
    "fig.set_title('Total Power');"
   ]
  },
  {
   "cell_type": "markdown",
   "metadata": {},
   "source": [
    "Calculate moving average of momentaneous power (Downsampled to same frequency as angle data, 12ms)"
   ]
  },
  {
   "cell_type": "code",
   "execution_count": null,
   "metadata": {},
   "outputs": [],
   "source": [
    "fs_factor = 120 # Factor to downsample with 0.012/(Voltage_Current_sample_freq)\n",
    "power_data_moving_av = np.ndarray((len(range(fs_factor,len(volt_data),fs_factor)),1))\n",
    "\n",
    "amp_data_ds = amp_data[0:len(amp_data):fs_factor]\n",
    "power_time_ds = power_time[0:len(power_time):fs_factor]\n",
    "\n",
    "i=0\n",
    "for j in range(fs_factor,len(power_data),fs_factor): #-2 because power_time does not seem to begin on 0.0\n",
    "    power_data_moving_av[i] = np.mean(power_data[j-int(fs_factor/2):j+int(fs_factor/2)])\n",
    "    i += 1"
   ]
  },
  {
   "cell_type": "code",
   "execution_count": null,
   "metadata": {},
   "outputs": [],
   "source": [
    "plt.figure(figsize=(12,6))\n",
    "fig = plt.subplot()\n",
    "x = range(len(power_data))\n",
    "fig.plot(power_time_ds[400:900], power_data_moving_av[400:900],  label='power',  marker='o',linewidth=0.3, markersize=1.5)\n",
    "fig.legend();\n",
    "fig.set_ylabel('Power [W]')\n",
    "fig.set_xlabel('Time [s]')\n",
    "fig.set_title('Power, moving average');"
   ]
  },
  {
   "cell_type": "markdown",
   "metadata": {},
   "source": [
    "Augment inputs with velocity, acceleration and pseudopower"
   ]
  },
  {
   "cell_type": "code",
   "execution_count": null,
   "metadata": {},
   "outputs": [],
   "source": [
    "#Time vector for angle measurements (fixed in KUKA system)\n",
    "delta_t = 0.012\n",
    "t = np.ndarray((len(traj_data),1))\n",
    "t[0] = 0\n",
    "for i in range(1,len(traj_data)):\n",
    "    t[i] = t[i-1] + delta_t\n",
    "\n",
    "#Velocity \n",
    "vel = np.ndarray(np.shape(traj_data))\n",
    "for i in range(len(traj_data)-1):\n",
    "    vel[i] = np.divide( traj_data[i+1] - traj_data[i], delta_t)\n",
    "vel[-1] = vel[-2]\n",
    "\n",
    "#Acceleration\n",
    "acc = np.ndarray(np.shape(traj_data))\n",
    "for i in range(len(traj_data)-1):\n",
    "    acc[i] = np.divide( vel[i+1] - vel[i], delta_t)\n",
    "acc[-1] = acc[-2]\n",
    "\n",
    "#Pseudopower\n",
    "psi = np.ndarray((np.shape(traj_data)[0],1))\n",
    "for i in range(len(traj_data)):\n",
    "    psi[i] = np.sum(np.abs(vel[i]*acc[i]))\n",
    "    \n",
    "\n",
    "#Create the augmented input vector containing [angle1,..,angle6, vel1,..,vel6, acc1,..,acc6, psi] for all timesteps.\n",
    "#TOOO: Should we split psi to psi1,..,psi6 ?\n",
    "\n",
    "aug_feature_dim = 19\n",
    "aug_input = np.ndarray((len(t),aug_feature_dim))\n",
    "\n",
    "for i in range(len(t)):\n",
    "    aug_input[i] = np.concatenate((traj_data[i], vel[i], acc[i], psi[i]), axis=None)\n",
    "\n",
    "with open(data_path + '/augmented_input.pickle', 'wb') as file:\n",
    "    pickle.dump(aug_input, file)\n",
    "    file.close()"
   ]
  },
  {
   "cell_type": "code",
   "execution_count": null,
   "metadata": {},
   "outputs": [],
   "source": [
    "first, last = 1500, 3000 # Sample interval to plot\n",
    "\n",
    "fig1, ax1 = plt.subplots()\n",
    "ax1.plot(t[first:last], traj_data[first:last],  label='Angles',  marker='o',linewidth=0.3, markersize=1.5)\n",
    "ax1.legend();\n",
    "ax1.set_ylabel('Angles [deg]')\n",
    "ax1.set_xlabel('Time')\n",
    "ax1.set_title('Angles');\n",
    "\n",
    "fig2, ax2 = plt.subplots()\n",
    "ax2.plot(t[first:last], vel[first:last],  label='Angular velocity',  marker='o',linewidth=0.3, markersize=1.5)\n",
    "ax2.legend();\n",
    "ax2.set_ylabel('Angular velocity [deg/s]')\n",
    "ax2.set_xlabel('Time')\n",
    "ax2.set_title('Velocity');\n",
    "\n",
    "fig3, ax3 = plt.subplots()\n",
    "ax3.plot(t[first:last], acc[first:last],  label='Angular acceleration',  marker='o',linewidth=0.3, markersize=1.5)\n",
    "ax3.legend();\n",
    "ax3.set_ylabel('Angular acceleration [deg/s^2]')\n",
    "ax3.set_xlabel('Time')\n",
    "ax3.set_title('Acceleration');\n",
    "\n",
    "fig4, ax4 = plt.subplots()\n",
    "ax4.plot(t[first:last], np.sum(np.abs(acc[first:last]), axis=1),  label='Summed acc',  marker='o',linewidth=0.3, markersize=1.5)\n",
    "ax4.legend();\n",
    "ax4.set_ylabel('Summed accelerations [deg/s^2]')\n",
    "ax4.set_xlabel('Time')\n",
    "ax4.set_title('Summed accelerations');\n",
    "\n",
    "fig5, ax5 = plt.subplots()\n",
    "ax5.plot(t[first:last], psi[first:last],  label='Pseudo power',  marker='o',linewidth=0.3, markersize=1.5)\n",
    "ax5.legend();\n",
    "ax5.set_ylabel('Pseudo power [deg/s^3]')\n",
    "ax5.set_xlabel('Time')\n",
    "ax5.set_title('Pseudo power');\n",
    "\n",
    "fig6, ax6 = plt.subplots()\n",
    "ax6.plot(t[0:500], power_data_moving_av[0:500],  label='Power',  marker='o',linewidth=0.3, markersize=1.5)\n",
    "ax6.legend();\n",
    "ax6.set_ylabel('Power [W]')\n",
    "ax6.set_xlabel('Time')\n",
    "ax6.set_title('Power');"
   ]
  },
  {
   "cell_type": "markdown",
   "metadata": {},
   "source": [
    "### Find start of power measurements (TODO: More sofisticated sync)"
   ]
  },
  {
   "cell_type": "code",
   "execution_count": null,
   "metadata": {},
   "outputs": [],
   "source": [
    "Start_power_indicator = 1500\n",
    "starting_point = 0\n",
    "for i in range(len(power_data_moving_av)):\n",
    "    if np.max(np.abs(power_data_moving_av[i]))>Start_power_indicator:\n",
    "        starting_point = i\n",
    "        break\n",
    "print('Start at sample:',starting_point-1,' corresponding to time:',power_time_ds[starting_point-1],'sec')\n",
    "\n",
    "\n",
    "plt.figure(figsize=(12,6))\n",
    "fig = plt.subplot()\n",
    "x = range(len(power_data))\n",
    "fig.plot(power_time_ds[0:500], power_data_moving_av[0:500],  label='Current',  marker='o',linewidth=0.3, markersize=1.5)\n",
    "fig.plot(power_time_ds[starting_point-1], power_data_moving_av[starting_point-1],  label='Start',  marker='o',linewidth=0.3, markersize=4)\n",
    "fig.legend();\n",
    "fig.set_ylabel('Ampere [W]')\n",
    "fig.set_xlabel('Time')\n",
    "fig.set_title('Current');"
   ]
  },
  {
   "cell_type": "code",
   "execution_count": null,
   "metadata": {},
   "outputs": [],
   "source": [
    "#Cut off power measurements at end of angle data measurements\n",
    "power_data_synced = power_data_moving_av[starting_point-1:starting_point-1+len(traj_data)]"
   ]
  },
  {
   "cell_type": "code",
   "execution_count": null,
   "metadata": {},
   "outputs": [],
   "source": [
    "fig1, ax1 = plt.subplots()\n",
    "ax1.plot(power_time_ds[0:800], power_data_synced[0:800],  label='Power',  marker='o',linewidth=0.3, markersize=1.5)\n",
    "ax1.legend();\n",
    "ax1.set_ylabel('Power [W]')\n",
    "ax1.set_xlabel('Time')\n",
    "ax1.set_title('Power');\n",
    "\n",
    "fig2, ax2 = plt.subplots()\n",
    "ax2.plot(power_time_ds, traj_data[0:len(power_time_ds)],  label='Angles',  marker='o',linewidth=0.3, markersize=1.5)\n",
    "ax2.legend();\n",
    "ax2.set_ylabel('Angles [deg]')\n",
    "ax2.set_xlabel('Time')\n",
    "ax2.set_title('Angles');"
   ]
  },
  {
   "cell_type": "markdown",
   "metadata": {},
   "source": [
    "Save the data"
   ]
  },
  {
   "cell_type": "code",
   "execution_count": null,
   "metadata": {},
   "outputs": [],
   "source": [
    "with open(data_path + '/power_data.pickle', 'wb') as file:\n",
    "    pickle.dump(power_data_synced, file)\n",
    "    file.close()"
   ]
  },
  {
   "cell_type": "markdown",
   "metadata": {},
   "source": [
    "### Normalize input data TODO: Normalize angles according to angle constraints on robot"
   ]
  },
  {
   "cell_type": "code",
   "execution_count": null,
   "metadata": {},
   "outputs": [],
   "source": [
    "feature_dim = len(traj_data[0])*3 + 1\n",
    "\n",
    "aug_input_norm = np.ndarray((len(t),feature_dim))\n",
    "traj_data_norm = np.ndarray(np.shape(traj_data))\n",
    "vel_norm = np.ndarray(np.shape(vel))\n",
    "acc_norm = np.ndarray(np.shape(vel))\n",
    "psi_norm = np.ndarray(np.shape(psi))\n",
    "\n",
    "for i in range(len(t)):\n",
    "    if np.max(traj_data[i])<1e-2:\n",
    "        traj_data_norm[i] = 0\n",
    "    else:\n",
    "        traj_data_norm[i] = traj_data[i]/np.max(traj_data[i])\n",
    "    \n",
    "    if np.max(vel[i])<1e-2:\n",
    "        vel_norm[i] = 0\n",
    "    else:\n",
    "        vel_norm[i] = vel[i]/np.max(vel[i])\n",
    "    \n",
    "    if np.max(acc[i])<1e-2:\n",
    "        acc_norm[i] = 0\n",
    "    else:\n",
    "        acc_norm[i] =acc[i]/np.max(acc[i])\n",
    "        \n",
    "    if np.max(psi)<1e-2:\n",
    "        psi_norm[i] = 0\n",
    "    else:\n",
    "        psi_norm[i] = psi[i]/np.max(psi)\n",
    "        \n",
    "        \n",
    "    aug_input_norm[i] = np.concatenate((traj_data_norm[i], vel_norm[i], acc_norm[i], psi_norm[i]), axis=None)\n",
    "\n",
    "with open(data_path + '/augmented_normalized_input.pickle', 'wb') as file:\n",
    "    pickle.dump(aug_input_norm, file)\n",
    "    file.close()"
   ]
  },
  {
   "cell_type": "markdown",
   "metadata": {},
   "source": [
    "## Low pass filtering of power data (working example)"
   ]
  },
  {
   "cell_type": "code",
   "execution_count": null,
   "metadata": {},
   "outputs": [],
   "source": [
    "def butter_lowpass(cutoff, fs, order=5):\n",
    "    nyq = 0.5 * fs\n",
    "    normal_cutoff = cutoff / nyq\n",
    "    b, a = butter(order, normal_cutoff, btype='low', analog=False)\n",
    "    return b, a\n",
    "\n",
    "def butter_lowpass_filter(data, cutoff, fs, order=5):\n",
    "    b, a = butter_lowpass(cutoff, fs, order=order)\n",
    "    y = lfilter(b, a, data)\n",
    "    return y\n",
    "\n",
    "\n",
    "# Filter requirements.\n",
    "order = 6\n",
    "fs = 30.0       # sample rate, Hz\n",
    "cutoff = 3.667  # desired cutoff frequency of the filter, Hz\n",
    "\n",
    "# Get the filter coefficients so we can check its frequency response.\n",
    "b, a = butter_lowpass(cutoff, fs, order)\n",
    "\n",
    "# Plot the frequency response.\n",
    "w, h = freqz(b, a, worN=8000)\n",
    "plt.subplot(2, 1, 1)\n",
    "plt.plot(0.5*fs*w/np.pi, np.abs(h), 'b')\n",
    "plt.plot(cutoff, 0.5*np.sqrt(2), 'ko')\n",
    "plt.axvline(cutoff, color='k')\n",
    "plt.xlim(0, 0.5*fs)\n",
    "plt.title(\"Lowpass Filter Frequency Response\")\n",
    "plt.xlabel('Frequency [Hz]')\n",
    "plt.grid()\n",
    "\n",
    "\n",
    "# Demonstrate the use of the filter.\n",
    "# First make some data to be filtered.\n",
    "T = 5.0         # seconds\n",
    "n = int(T * fs) # total number of samples\n",
    "t = np.linspace(0, T, n, endpoint=False)\n",
    "# \"Noisy\" data.  We want to recover the 1.2 Hz signal from this.\n",
    "data = np.sin(1.2*2*np.pi*t) + 1.5*np.cos(9*2*np.pi*t) + 0.5*np.sin(12.0*2*np.pi*t)\n",
    "\n",
    "# Filter the data, and plot both the original and filtered signals.\n",
    "y = butter_lowpass_filter(data, cutoff, fs, order)\n",
    "\n",
    "plt.subplot(2, 1, 2)\n",
    "plt.plot(t, data, 'b-', label='data')\n",
    "plt.plot(t, y, 'g-', linewidth=2, label='filtered data')\n",
    "plt.xlabel('Time [sec]')\n",
    "plt.grid()\n",
    "plt.legend()\n",
    "\n",
    "plt.subplots_adjust(hspace=0.35)\n"
   ]
  },
  {
   "cell_type": "code",
   "execution_count": null,
   "metadata": {},
   "outputs": [],
   "source": []
  }
 ],
 "metadata": {
  "kernelspec": {
   "display_name": "Python 3",
   "language": "python",
   "name": "python3"
  },
  "language_info": {
   "codemirror_mode": {
    "name": "ipython",
    "version": 3
   },
   "file_extension": ".py",
   "mimetype": "text/x-python",
   "name": "python",
   "nbconvert_exporter": "python",
   "pygments_lexer": "ipython3",
   "version": "3.6.6"
  }
 },
 "nbformat": 4,
 "nbformat_minor": 2
}
